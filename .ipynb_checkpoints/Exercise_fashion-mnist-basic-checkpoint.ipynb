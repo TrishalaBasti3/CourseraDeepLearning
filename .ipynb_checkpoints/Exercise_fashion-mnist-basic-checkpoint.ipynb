{
 "cells": [
  {
   "cell_type": "markdown",
   "id": "32102769",
   "metadata": {},
   "source": [
    "# Beyond Hello World, A Computer Vision Example\n",
    "In the previous exercise you saw how to create a neural network that figured out the problem you were trying to solve. This gave an explicit example of learned behavior. Of course, in that instance, it was a bit of overkill because it would have been easier to write the function Y=2x-1 directly, instead of bothering with using Machine Learning to learn the relationship between X and Y for a fixed set of values, and extending that for all values.\n",
    "\n",
    "But what about a scenario where writing rules like that is much more difficult -- for example a computer vision problem? Let's take a look at a scenario where we can recognize different items of clothing, trained from a dataset containing 10 different types."
   ]
  },
  {
   "cell_type": "code",
   "execution_count": 1,
   "id": "a68913ef",
   "metadata": {},
   "outputs": [
    {
     "name": "stdout",
     "output_type": "stream",
     "text": [
      "2.5.0\n"
     ]
    }
   ],
   "source": [
    "import tensorflow as tf\n",
    "print (tf.__version__)"
   ]
  },
  {
   "cell_type": "markdown",
   "id": "3a38fdcf",
   "metadata": {},
   "source": [
    "# Callback to stop training after reaching a certain threshold\n",
    "\n",
    "To stop the training when I reach a desired value?' -- i.e. 95% accuracy might be enough for you, and if you reach that after 3 epochs, why sit around waiting for it to finish a lot more epochs....So how would you fix that? Like any other program...you have callbacks! Let's see them in action..."
   ]
  },
  {
   "cell_type": "code",
   "execution_count": 13,
   "id": "3f4230f2",
   "metadata": {},
   "outputs": [],
   "source": [
    "#Stopping once 80% accuracy is reached\n",
    "\n",
    "class myCallback(tf.keras.callbacks.Callback):\n",
    "  def on_epoch_end(self, epoch, logs={}):\n",
    "    if(logs.get('loss')<0.2):\n",
    "      print(\"\\nReached 80% accuracy so cancelling training!\")\n",
    "      self.model.stop_training = True\n",
    "        \n",
    "# We instantiate the class that we just created, we do that with this code. \n",
    "callbacks = myCallback()"
   ]
  },
  {
   "cell_type": "markdown",
   "id": "3bd408bc",
   "metadata": {},
   "source": [
    "The Fashion MNIST data is available directly in the tf.keras datasets API. You load it like this:"
   ]
  },
  {
   "cell_type": "code",
   "execution_count": 2,
   "id": "264a446e",
   "metadata": {},
   "outputs": [],
   "source": [
    "mnist = tf.keras.datasets.fashion_mnist"
   ]
  },
  {
   "cell_type": "markdown",
   "id": "5a809475",
   "metadata": {},
   "source": [
    "Calling load_data on this object will give you two sets of two lists, these will be the training and testing values for the graphics that contain the clothing items and their labels."
   ]
  },
  {
   "cell_type": "code",
   "execution_count": 3,
   "id": "7a31be8b",
   "metadata": {},
   "outputs": [],
   "source": [
    "(training_images, training_labels), (test_images, test_labels) = mnist.load_data()"
   ]
  },
  {
   "cell_type": "markdown",
   "id": "ccb8f7f7",
   "metadata": {},
   "source": [
    "Lets look on how the above values look like. Lets print a training image and training label. "
   ]
  },
  {
   "cell_type": "code",
   "execution_count": 4,
   "id": "3a694c62",
   "metadata": {},
   "outputs": [
    {
     "name": "stdout",
     "output_type": "stream",
     "text": [
      "[[  0   0   0   0   0   0   0   0  33  96 175 156  64  14  54 137 204 194 102   0   0   0   0   0   0   0   0   0]\n",
      " [  0   0   0   0   0   0  73 186 177 183 175 188 232 255 223 219 194 179 186 213 146   0   0   0   0   0   0   0]\n",
      " [  0   0   0   0   0  35 163 140 150 152 150 146 175 175 173 171 156 152 148 129 156 140   0   0   0   0   0   0]\n",
      " [  0   0   0   0   0 150 142 140 152 160 156 146 142 127 135 133 140 140 137 133 125 169  75   0   0   0   0   0]\n",
      " [  0   0   0   0   0  54 167 146 129 142 137 137 131 148 148 133 131 131 131 125 140 140   0   0   0   0   0   0]\n",
      " [  0   0   0   0   0   0 110 188 133 146 152 133 125 127 119 129 133 119 140 131 150  14   0   0   0   0   0   0]\n",
      " [  0   0   0   0   0   0   0 221 158 137 135 123 110 110 114 108 112 117 127 142  77   0   0   0   0   0   0   0]\n",
      " [  0   0   0   0   0   4   0  25 158 137 125 119 119 110 117 117 110 119 127 144   0   0   0   0   0   0   0   0]\n",
      " [  0   0   0   0   0   0   0   0 123 156 129 112 110 102 112 100 121 117 129 114   0   0   0   0   0   0   0   0]\n",
      " [  0   0   0   0   0   0   0   0 125 169 127 119 106 108 104  94 121 114 129  91   0   0   0   0   0   0   0   0]\n",
      " [  0   0   0   0   0   0   2   0  98 171 129 112 104 114 106 102 112 104 133  64   0   4   0   0   0   0   0   0]\n",
      " [  0   0   0   0   0   0   2   0  66 173 135 129  98 100 119 102 108  98 135  60   0   4   0   0   0   0   0   0]\n",
      " [  0   0   0   0   0   0   2   0  56 171 135 127 100 108 117  85 106 110 135  66   0   4   0   0   0   0   0   0]\n",
      " [  0   0   0   0   0   0   0   0  52 150 129 110 100  91 102  94  83 104 123  66   0   4   0   0   0   0   0   0]\n",
      " [  0   0   0   0   0   0   2   0  66 167 140 148 148 127 137 152 146 146 148  96   0   0   0   0   0   0   0   0]\n",
      " [  0   0   0   0   0   0   0   0  45 123  94 104  96 119 121 106  98 112  87 114   0   0   0   0   0   0   0   0]\n",
      " [  0   0   0   0   0   0   0   0 106  89  58  50  37  50  66  56  50  75  75 137  22   0   2   0   0   0   0   0]\n",
      " [  0   0   0   0   0   2   0  29 148 114 106 125  89 100 133 117 131 131 131 125 112   0   0   0   0   0   0   0]\n",
      " [  0   0   0   0   0   0   0 100 106 114  91 137  62 102 131  89 135 112 131 108 135  37   0   0   0   0   0   0]\n",
      " [  0   0   0   0   0   0   0 146 100 108  98 144  62 106 131  87 133 104 160 117 121  68   0   0   0   0   0   0]\n",
      " [  0   0   0   0   0   0  33 121 108  96 100 140  71 106 127  85 140 104 150 140 114  89   0   0   0   0   0   0]\n",
      " [  0   0   0   0   0   0  62 119 112 102 110 137  75 106 144  81 144 108 117 154 117 104  18   0   0   0   0   0]\n",
      " [  0   0   0   0   0   0  66 121 102 112 117 131  73 104 156  77 137 135  83 179 129 121  35   0   0   0   0   0]\n",
      " [  0   0   0   0   0   0  85 127  81 125 133 119  79 100 169  83 129 175  60 163 135 146  39   0   0   0   0   0]\n",
      " [  0   0   0   0   0   0 106 129  62 140 144 108  85  83 158  85 129 175  48 146 133 135  64   0   0   0   0   0]\n",
      " [  0   0   0   0   0   0 117 119  79 140 152 102  89 110 137  96 150 196  83 144 135 133  77   0   0   0   0   0]\n",
      " [  0   0   0   0   0   0 154 121  87 140 154 112  94  52 142 100  83 152  85 160 133 100  12   0   0   0   0   0]\n",
      " [  0   0   0   0   0   0   4   0   2   0  35   4  33   0   0   0   0   0   0   0   0   0   0   0   0   0   0   0]]\n",
      "3\n"
     ]
    },
    {
     "data": {
      "image/png": "[encoded data removed]",
      "text/plain": [
       "<Figure size 432x288 with 1 Axes>"
      ]
     },
     "metadata": {
      "needs_background": "light"
     },
     "output_type": "display_data"
    }
   ],
   "source": [
    "import numpy as np\n",
    "np.set_printoptions(linewidth=200)\n",
    "import matplotlib.pyplot as plt\n",
    "plt.imshow(training_images[3])\n",
    "print (training_images[3])\n",
    "print (training_labels[3])"
   ]
  },
  {
   "cell_type": "markdown",
   "id": "b89dde9e",
   "metadata": {},
   "source": [
    "# Normalize the data\n",
    "All values in the above image array is in 0 to 255 range. Normalize them by bringing them in the range of 0 to 1.\n",
    "fortunately in Python it's easy to normalize a list like this without looping."
   ]
  },
  {
   "cell_type": "code",
   "execution_count": 5,
   "id": "bfc9d449",
   "metadata": {},
   "outputs": [],
   "source": [
    "training_images = training_images/255.0\n",
    "test_images = test_images/255.0"
   ]
  },
  {
   "cell_type": "markdown",
   "id": "2c721c91",
   "metadata": {},
   "source": [
    "# Design the model"
   ]
  },
  {
   "cell_type": "code",
   "execution_count": 7,
   "id": "d8e0db8d",
   "metadata": {},
   "outputs": [],
   "source": [
    "model = tf.keras.models.Sequential([tf.keras.layers.Flatten(),\n",
    "                                    tf.keras.layers.Dense(128, activation=tf.nn.relu),\n",
    "                                    tf.keras.layers.Dense(10,activation=tf.nn.softmax)])"
   ]
  },
  {
   "cell_type": "markdown",
   "id": "e9efd5d9",
   "metadata": {},
   "source": [
    "**Sequential** : This defines the sequence of layers in the nueral network. \n",
    "\n",
    "**Flatten** : This converts the input shape into linear. Converts our square image into 1 dimension set.\n",
    "\n",
    "**Dense** : Adds layers of nuerons\n",
    "\n",
    "Each layer needs activation function to tell them what to do.  Examples are:\n",
    "\n",
    "**Relu** : means if X>0, return X, else return 0, --> so what it does is it passes values 0 or greater to the next layer in the network.\n",
    "\n",
    "**Softmax** : Takes a set of values and effective picks the bigger one.Eg: if output of last layer looks like [0.1, 0.1, 0.05, 0.1, 9.5, 0.1, 0.05, 0.05, 0.05], it saves you from fishing through it looking for the biggest value, and turns it into [0,0,0,0,1,0,0,0,0] -- The goal is to save a lot of coding!"
   ]
  },
  {
   "cell_type": "markdown",
   "id": "afd980bc",
   "metadata": {},
   "source": [
    "# Compile the model\n",
    "Now to build the model once you defined the model. This is done by compiling it with an optimizer and a loss function. "
   ]
  },
  {
   "cell_type": "code",
   "execution_count": 8,
   "id": "9a4d4fe4",
   "metadata": {},
   "outputs": [],
   "source": [
    "model.compile(optimizer=tf.optimizers.Adam(),\n",
    "             loss = 'sparse_categorical_crossentropy',\n",
    "             metrics=['accuracy'])"
   ]
  },
  {
   "cell_type": "markdown",
   "id": "19877880",
   "metadata": {},
   "source": [
    "# Train the model\n",
    "Training is done by model.fit (x,y,epochs = 10)  OR\n",
    "model.fit (training_images,training_labels, epochs = 10)\n",
    "\n",
    "Asking it to fit your training data to your training labels -- i.e. have it figure out the relationship between the training data and its actual labels, so in future if you have data that looks like the training data, then it can make a prediction for what that data would look like.\n"
   ]
  },
  {
   "cell_type": "code",
   "execution_count": 14,
   "id": "070840a0",
   "metadata": {},
   "outputs": [
    {
     "name": "stdout",
     "output_type": "stream",
     "text": [
      "Epoch 1/10\n",
      "1875/1875 [==============================] - 2s 1ms/step - loss: 0.2243 - accuracy: 0.9152: 1s - loss: - ETA: 1s - loss: 0.2206 -  - ETA: 0s - loss: 0.2\n",
      "Epoch 2/10\n",
      "1875/1875 [==============================] - 2s 1ms/step - loss: 0.2147 - accuracy: 0.9187: 1s - loss: 0.2126 - accuracy - E - ETA: 0s - loss: 0.215\n",
      "Epoch 3/10\n",
      "1875/1875 [==============================] - 2s 1ms/step - loss: 0.2087 - accuracy: 0.9219\n",
      "Epoch 4/10\n",
      "1875/1875 [==============================] - 2s 999us/step - loss: 0.2029 - accuracy: 0.9238\n",
      "Epoch 5/10\n",
      "1875/1875 [==============================] - 2s 952us/step - loss: 0.1974 - accuracy: 0.9252\n",
      "\n",
      "Reached 80% accuracy so cancelling training!\n"
     ]
    },
    {
     "data": {
      "text/plain": [
       "<tensorflow.python.keras.callbacks.History at 0x236ac8ed730>"
      ]
     },
     "execution_count": 14,
     "metadata": {},
     "output_type": "execute_result"
    }
   ],
   "source": [
    "# In model.fit, I used the callbacks parameter and pass it this instance of the class.\n",
    "model.fit(training_images, training_labels, epochs=10,  callbacks=[callbacks])"
   ]
  },
  {
   "cell_type": "markdown",
   "id": "39b4d036",
   "metadata": {},
   "source": [
    "# Evaluate the model\n",
    "Once it's done training -- you should see an accuracy value at the end of the final epoch. It might look something like 0.9098. This tells you that your neural network is about 91% accurate in classifying the training data. I.E., it figured out a pattern match between the image and the labels that worked 91% of the time. Not great, but not bad considering it was only trained for 5 epochs and done quite quickly.\n",
    "\n",
    "But how would it work with unseen data? That's why we have the test images. We can call model.evaluate, and pass in the two sets, and it will report back the loss for each. Let's give it a try:"
   ]
  },
  {
   "cell_type": "code",
   "execution_count": 10,
   "id": "5fcb0824",
   "metadata": {},
   "outputs": [
    {
     "name": "stdout",
     "output_type": "stream",
     "text": [
      "313/313 [==============================] - 0s 821us/step - loss: 0.3219 - accuracy: 0.8848\n"
     ]
    },
    {
     "data": {
      "text/plain": [
       "[0.32189545035362244, 0.8848000168800354]"
      ]
     },
     "execution_count": 10,
     "metadata": {},
     "output_type": "execute_result"
    }
   ],
   "source": [
    "model.evaluate(test_images,test_labels)"
   ]
  },
  {
   "cell_type": "code",
   "execution_count": null,
   "id": "b8e8dee2",
   "metadata": {},
   "outputs": [],
   "source": []
  },
  {
   "cell_type": "code",
   "execution_count": null,
   "id": "36424eae",
   "metadata": {},
   "outputs": [],
   "source": []
  },
  {
   "cell_type": "code",
   "execution_count": null,
   "id": "b2db1a2a",
   "metadata": {},
   "outputs": [],
   "source": []
  },
  {
   "cell_type": "code",
   "execution_count": null,
   "id": "c55f4d4e",
   "metadata": {},
   "outputs": [],
   "source": []
  }
 ],
 "metadata": {
  "kernelspec": {
   "display_name": "Python 3",
   "language": "python",
   "name": "python3"
  },
  "language_info": {
   "codemirror_mode": {
    "name": "ipython",
    "version": 3
   },
   "file_extension": ".py",
   "mimetype": "text/x-python",
   "name": "python",
   "nbconvert_exporter": "python",
   "pygments_lexer": "ipython3",
   "version": "3.8.8"
  },
  "toc": {
   "base_numbering": 1,
   "nav_menu": {},
   "number_sections": true,
   "sideBar": true,
   "skip_h1_title": false,
   "title_cell": "Table of Contents",
   "title_sidebar": "Contents",
   "toc_cell": false,
   "toc_position": {},
   "toc_section_display": true,
   "toc_window_display": false
  }
 },
 "nbformat": 4,
 "nbformat_minor": 5
}
